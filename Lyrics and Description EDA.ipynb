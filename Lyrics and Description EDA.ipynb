{
 "cells": [
  {
   "cell_type": "markdown",
   "id": "7f79baf9",
   "metadata": {},
   "source": [
    "# ADS 509 Assignment 2.1: Tokenization, Normalization, Descriptive Statistics \n",
    "\n",
    "This notebook holds Assignment 2.1 for Module 2 in ADS 509, Applied Text Mining. Work through this notebook, writing code and answering questions where required. \n",
    "\n",
    "In the previous assignment you pulled lyrics data on two artists. In this assignment we explore this data set and a pull from the now-defunct Twitter API for the artists Cher and Robyn.  If, for some reason, you did not complete that previous assignment, data to use for this assignment can be found in the assignment materials section of Canvas. \n",
    "\n",
    "This assignment asks you to write a short function to calculate some descriptive statistics on a piece of text. Then you are asked to find some interesting and unique statistics on your corpora. \n"
   ]
  },
  {
   "cell_type": "markdown",
   "id": "6a699cc5-90bc-4955-adb1-c89e42e151ab",
   "metadata": {},
   "source": [
    "# Importing Packages"
   ]
  },
  {
   "cell_type": "code",
   "execution_count": 1,
   "id": "e2d096b7",
   "metadata": {
    "scrolled": true
   },
   "outputs": [],
   "source": [
    "import os\n",
    "import re\n",
    "import emoji\n",
    "import pandas as pd\n",
    "import numpy as np\n",
    "\n",
    "from collections import Counter, defaultdict\n",
    "from nltk.corpus import stopwords\n",
    "from string import punctuation\n",
    "\n",
    "sw = stopwords.words(\"english\")"
   ]
  },
  {
   "cell_type": "code",
   "execution_count": 2,
   "id": "923b5a86",
   "metadata": {},
   "outputs": [],
   "source": [
    "# change `data_location` to the location of the folder on your machine.\n",
    "data_location = \"C:/Users/sowmi/gitworkspace/ADS_509_Token_Norm/M1 Assignment Data/M1 Results/\"\n",
    "\n",
    "# These subfolders should still work if you correctly stored the \n",
    "# data from the Module 1 assignment\n",
    "twitter_folder = \"twitter/\"\n",
    "lyrics_folder = \"lyrics/\""
   ]
  },
  {
   "cell_type": "code",
   "execution_count": 3,
   "id": "06522af9",
   "metadata": {},
   "outputs": [],
   "source": [
    "def descriptive_stats(tokens, num_tokens = 5, verbose=True) :\n",
    "    \"\"\"\n",
    "        Given a list of tokens, print number of tokens, number of unique tokens, \n",
    "        number of characters, lexical diversity (https://en.wikipedia.org/wiki/Lexical_diversity), \n",
    "        and num_tokens most common tokens. Return a list with the number of tokens, number\n",
    "        of unique tokens, lexical diversity, and number of characters. \n",
    "    \n",
    "    \"\"\"\n",
    "\n",
    "    # Fill in the correct values here. \n",
    "    num_tokens = len(tokens)\n",
    "    num_unique_tokens = len(set(tokens))\n",
    "    lexical_diversity = num_unique_tokens/num_tokens\n",
    "    num_characters = sum(len(token) for token in tokens)\n",
    "    \n",
    "    if verbose :        \n",
    "        print(f\"There are {num_tokens} tokens in the data.\")\n",
    "        print(f\"There are {num_unique_tokens} unique tokens in the data.\")\n",
    "        print(f\"There are {num_characters} characters in the data.\")\n",
    "        print(f\"The lexical diversity is {lexical_diversity:.3f} in the data.\")\n",
    "        \n",
    "        # print the five most common tokens\n",
    "        counter = Counter(tokens)\n",
    "        if num_tokens > 0:\n",
    "            print(counter.most_common(5))\n",
    "        \n",
    "    return([num_tokens, num_unique_tokens,\n",
    "            lexical_diversity,\n",
    "            num_characters])\n",
    "    "
   ]
  },
  {
   "cell_type": "code",
   "execution_count": 4,
   "id": "59dcf058",
   "metadata": {},
   "outputs": [
    {
     "name": "stdout",
     "output_type": "stream",
     "text": [
      "There are 13 tokens in the data.\n",
      "There are 9 unique tokens in the data.\n",
      "There are 55 characters in the data.\n",
      "The lexical diversity is 0.692 in the data.\n",
      "[('text', 3), ('here', 2), ('example', 2), ('is', 1), ('some', 1)]\n"
     ]
    }
   ],
   "source": [
    "text = \"\"\"here is some example text with other example text here in this text\"\"\".split()\n",
    "assert(descriptive_stats(text, verbose=True)[0] == 13)\n",
    "assert(descriptive_stats(text, verbose=False)[1] == 9)\n",
    "assert(abs(descriptive_stats(text, verbose=False)[2] - 0.69) < 0.02)\n",
    "assert(descriptive_stats(text, verbose=False)[3] == 55)\n"
   ]
  },
  {
   "cell_type": "markdown",
   "id": "d2e7e1a2",
   "metadata": {},
   "source": [
    "**Q: Why is it beneficial to use assertion statements in your code?**\n",
    "\n",
    "A: Assertion statements check whether a condition is true, and if it is false, they raise an AssertionError. They help detect programming errors by ensuring specific conditions are met, simplifying debugging. Additionally, assertions validate inputs and outputs at the start and end of a function."
   ]
  },
  {
   "cell_type": "markdown",
   "id": "9d3bf93e",
   "metadata": {},
   "source": [
    "## Data Input\n",
    "\n",
    "Now read in each of the corpora. For the lyrics data, it may be convenient to store the entire contents of the file to make it easier to inspect the titles individually, as you'll do in the last part of the assignment. In the solution, I stored the lyrics data in a dictionary with two dimensions of keys: artist and song. The value was the file contents. A data frame would work equally well. \n",
    "\n",
    "For the Twitter data, we only need the description field for this assignment. Feel free all the descriptions read it into a data structure. In the solution, I stored the descriptions as a dictionary of lists, with the key being the artist. \n",
    "\n",
    "\n"
   ]
  },
  {
   "cell_type": "code",
   "execution_count": 5,
   "id": "f867fe9f-8a45-4209-8e58-aa6a0192b6c2",
   "metadata": {},
   "outputs": [],
   "source": [
    "# Function to find the folder path\n",
    "def find_directory(target_dir, start_path='.'):\n",
    "    \n",
    "    # Walk through the directory tree from the current directory\n",
    "    for root, dirs, files in os.walk(start_path):\n",
    "        if target_dir in dirs:\n",
    "            path = os.path.join(root, target_dir)\n",
    "    return path\n"
   ]
  },
  {
   "cell_type": "code",
   "execution_count": 6,
   "id": "951308e6-69a6-480d-af31-7388d343591d",
   "metadata": {},
   "outputs": [],
   "source": [
    "# Read in the lyrics data\n",
    "song_list = []\n",
    "#lyrics_folder_path = os.path.join(data_location, lyrics_folder)\n",
    "lyrics_folder_path = find_directory(\"lyrics\")\n",
    "\n",
    "for artist_folder in os.listdir(lyrics_folder_path):\n",
    "    artist_path = os.path.join(lyrics_folder_path, artist_folder)\n",
    "    \n",
    "    # Check if it is a directory\n",
    "    if os.path.isdir(artist_path):\n",
    "        for filename in os.listdir(artist_path):\n",
    "            if filename.endswith('.txt'):\n",
    "                title = filename.split('_')[1].replace(\".txt\", \"\")\n",
    "                file_path = os.path.join(artist_path, filename)\n",
    "                \n",
    "                with open(file_path, 'r', encoding='utf-8') as file:\n",
    "                    lyrics = file.read()\n",
    "                    song_list.append({'artist_name': artist_folder, 'song_title': title, 'lyrics': lyrics})\n",
    "\n",
    "lyrics_df = pd.DataFrame(song_list)"
   ]
  },
  {
   "cell_type": "code",
   "execution_count": 7,
   "id": "373616d1-0cc1-4615-96c9-9dc5b738721b",
   "metadata": {},
   "outputs": [
    {
     "data": {
      "text/html": [
       "<div>\n",
       "<style scoped>\n",
       "    .dataframe tbody tr th:only-of-type {\n",
       "        vertical-align: middle;\n",
       "    }\n",
       "\n",
       "    .dataframe tbody tr th {\n",
       "        vertical-align: top;\n",
       "    }\n",
       "\n",
       "    .dataframe thead th {\n",
       "        text-align: right;\n",
       "    }\n",
       "</style>\n",
       "<table border=\"1\" class=\"dataframe\">\n",
       "  <thead>\n",
       "    <tr style=\"text-align: right;\">\n",
       "      <th></th>\n",
       "      <th>artist_name</th>\n",
       "      <th>song_title</th>\n",
       "      <th>lyrics</th>\n",
       "    </tr>\n",
       "  </thead>\n",
       "  <tbody>\n",
       "    <tr>\n",
       "      <th>0</th>\n",
       "      <td>cher</td>\n",
       "      <td>88degrees</td>\n",
       "      <td>\"88 Degrees\"\\n\\n\\n\\nStuck in L.A., ain't got n...</td>\n",
       "    </tr>\n",
       "    <tr>\n",
       "      <th>1</th>\n",
       "      <td>cher</td>\n",
       "      <td>adifferentkindoflovesong</td>\n",
       "      <td>\"A Different Kind Of Love Song\"\\n\\n\\n\\nWhat if...</td>\n",
       "    </tr>\n",
       "    <tr>\n",
       "      <th>2</th>\n",
       "      <td>cher</td>\n",
       "      <td>afterall</td>\n",
       "      <td>\"After All\"\\n\\n\\n\\nWell, here we are again\\nI ...</td>\n",
       "    </tr>\n",
       "    <tr>\n",
       "      <th>3</th>\n",
       "      <td>cher</td>\n",
       "      <td>again</td>\n",
       "      <td>\"Again\"\\n\\n\\n\\nAgain evening finds me at your ...</td>\n",
       "    </tr>\n",
       "    <tr>\n",
       "      <th>4</th>\n",
       "      <td>cher</td>\n",
       "      <td>alfie</td>\n",
       "      <td>\"Alfie\"\\n\\n\\n\\nWhat's it all about, Alfie?\\nIs...</td>\n",
       "    </tr>\n",
       "  </tbody>\n",
       "</table>\n",
       "</div>"
      ],
      "text/plain": [
       "  artist_name                song_title  \\\n",
       "0        cher                 88degrees   \n",
       "1        cher  adifferentkindoflovesong   \n",
       "2        cher                  afterall   \n",
       "3        cher                     again   \n",
       "4        cher                     alfie   \n",
       "\n",
       "                                              lyrics  \n",
       "0  \"88 Degrees\"\\n\\n\\n\\nStuck in L.A., ain't got n...  \n",
       "1  \"A Different Kind Of Love Song\"\\n\\n\\n\\nWhat if...  \n",
       "2  \"After All\"\\n\\n\\n\\nWell, here we are again\\nI ...  \n",
       "3  \"Again\"\\n\\n\\n\\nAgain evening finds me at your ...  \n",
       "4  \"Alfie\"\\n\\n\\n\\nWhat's it all about, Alfie?\\nIs...  "
      ]
     },
     "execution_count": 7,
     "metadata": {},
     "output_type": "execute_result"
    }
   ],
   "source": [
    "lyrics_df.head()"
   ]
  },
  {
   "cell_type": "code",
   "execution_count": 8,
   "id": "debcac5a",
   "metadata": {},
   "outputs": [],
   "source": [
    "# Read in the twitter data\n",
    "\n",
    "# Finding the twitter directory\n",
    "twitter_path = find_directory(\"twitter\")\n",
    "twitter_files = os.listdir(twitter_path)\n",
    "twitter_files = [f for f in twitter_files if 'followers_data' in f]\n",
    "\n",
    "# Dictionary of lists to store the description\n",
    "twitter_desc = defaultdict(list)\n",
    "\n",
    "for file in twitter_files:\n",
    "    data_path = os.path.join(twitter_path, file)\n",
    "    artist = file.split('_')[0]\n",
    "    \n",
    "    with open(data_path, 'r', encoding='utf-8') as txtfile:\n",
    "        # skipping the column header\n",
    "        next(txtfile) \n",
    "        \n",
    "        for idx, line in enumerate(txtfile.readlines()):\n",
    "            line = line.strip().split('\\t')\n",
    "            \n",
    "            # Check if the line has 7 columns\n",
    "            if len(line) == 7:\n",
    "                twitter_desc[artist].append(line[6])"
   ]
  },
  {
   "cell_type": "markdown",
   "id": "6a5f3b12",
   "metadata": {},
   "source": [
    "## Data Cleaning\n",
    "\n",
    "Now clean and tokenize your data. Remove punctuation chacters (available in the `punctuation` object in the `string` library), split on whitespace, fold to lowercase, and remove stopwords. Store your cleaned data, which must be accessible as an interable for `descriptive_stats`, in new objects or in new columns in your data frame. \n",
    "\n"
   ]
  },
  {
   "cell_type": "code",
   "execution_count": 9,
   "id": "71c73d86",
   "metadata": {},
   "outputs": [],
   "source": [
    "punctuation = set(punctuation) # speeds up comparison"
   ]
  },
  {
   "cell_type": "code",
   "execution_count": 10,
   "id": "b327033a",
   "metadata": {},
   "outputs": [],
   "source": [
    "# create your clean twitter data here\n",
    "twitter_cleaned = defaultdict(list)\n",
    "\n",
    "for artist in twitter_desc:\n",
    "    descriptions = \" \".join(twitter_desc[artist])\n",
    "\n",
    "    # Removing Punctuation\n",
    "    descriptions = \"\".join([char for char in descriptions if char not in punctuation])\n",
    "    \n",
    "    # Case Folding and tokenization\n",
    "    descriptions = [token.lower().strip() for token in descriptions.split()]\n",
    "    \n",
    "    # Removing stop words\n",
    "    descriptions = [token for token in descriptions if token not in sw]\n",
    "    twitter_cleaned[artist].extend(descriptions)  "
   ]
  },
  {
   "cell_type": "code",
   "execution_count": 11,
   "id": "e0f22e10",
   "metadata": {},
   "outputs": [],
   "source": [
    "# create your clean lyrics data here\n",
    "lyrics_cleaned = lyrics_df.copy()\n",
    "\n",
    "# Removing punctuation\n",
    "lyrics_cleaned['lyrics'] = lyrics_cleaned['lyrics'].apply(lambda x: \"\".join([char for char in x if char not in punctuation]))\n",
    "\n",
    "# Case Folding and tokenization\n",
    "lyrics_cleaned['lyrics'] = lyrics_cleaned['lyrics'].apply(lambda x: [token.lower().strip() for token in x.split()])\n",
    "\n",
    "# Removing stop words\n",
    "lyrics_cleaned['lyrics'] = lyrics_cleaned['lyrics'].apply(lambda tokens: [token for token in tokens if token not in sw])"
   ]
  },
  {
   "cell_type": "markdown",
   "id": "f2dd0179",
   "metadata": {},
   "source": [
    "## Basic Descriptive Statistics\n",
    "\n",
    "Call your `descriptive_stats` function on both your lyrics data and your twitter data and for both artists (four total calls). "
   ]
  },
  {
   "cell_type": "code",
   "execution_count": 12,
   "id": "f0bbedd9",
   "metadata": {},
   "outputs": [
    {
     "name": "stdout",
     "output_type": "stream",
     "text": [
      "There are 35916 tokens in the data.\n",
      "There are 3703 unique tokens in the data.\n",
      "There are 172634 characters in the data.\n",
      "The lexical diversity is 0.103 in the data.\n",
      "[('love', 1004), ('im', 513), ('know', 486), ('dont', 440), ('youre', 333)]\n"
     ]
    },
    {
     "data": {
      "text/plain": [
       "[35916, 3703, 0.10310168170174852, 172634]"
      ]
     },
     "execution_count": 12,
     "metadata": {},
     "output_type": "execute_result"
    }
   ],
   "source": [
    "# calls to descriptive_stats on cher lyrics \n",
    "cher_lyrics  = lyrics_cleaned['lyrics'][lyrics_cleaned['artist_name'] == \"cher\"]\n",
    "\n",
    "# Flatten the series of lists into single list of tokens\n",
    "cher_lyrics_tokens = [token for sublist in cher_lyrics for token in sublist]\n",
    "\n",
    "descriptive_stats(cher_lyrics_tokens, num_tokens = 5)"
   ]
  },
  {
   "cell_type": "code",
   "execution_count": 13,
   "id": "2222f996-b69c-4930-b655-3a4ca6eeeb05",
   "metadata": {},
   "outputs": [
    {
     "name": "stdout",
     "output_type": "stream",
     "text": [
      "There are 15227 tokens in the data.\n",
      "There are 2156 unique tokens in the data.\n",
      "There are 73787 characters in the data.\n",
      "The lexical diversity is 0.142 in the data.\n",
      "[('know', 308), ('dont', 301), ('im', 299), ('love', 275), ('got', 251)]\n"
     ]
    },
    {
     "data": {
      "text/plain": [
       "[15227, 2156, 0.14159059565245943, 73787]"
      ]
     },
     "execution_count": 13,
     "metadata": {},
     "output_type": "execute_result"
    }
   ],
   "source": [
    "# calls to descriptive_stats on robyn lyrics\n",
    "robyn_lyrics  = lyrics_cleaned['lyrics'][lyrics_cleaned['artist_name'] == \"robyn\"]\n",
    "\n",
    "# Flatten the series of lists into single list of tokens\n",
    "robyn_lyrics_tokens = [token for sublist in robyn_lyrics for token in sublist]\n",
    "\n",
    "descriptive_stats(robyn_lyrics_tokens, num_tokens = 5)"
   ]
  },
  {
   "cell_type": "code",
   "execution_count": 14,
   "id": "1f647b26-0fc3-4eff-aa81-1afc0a9870fe",
   "metadata": {},
   "outputs": [
    {
     "name": "stdout",
     "output_type": "stream",
     "text": [
      "There are 15670504 tokens in the data.\n",
      "There are 1517718 unique tokens in the data.\n",
      "There are 92951718 characters in the data.\n",
      "The lexical diversity is 0.097 in the data.\n",
      "[('love', 214576), ('im', 139098), ('life', 122980), ('music', 88177), ('de', 72974)]\n"
     ]
    },
    {
     "data": {
      "text/plain": [
       "[15670504, 1517718, 0.09685189448916257, 92951718]"
      ]
     },
     "execution_count": 14,
     "metadata": {},
     "output_type": "execute_result"
    }
   ],
   "source": [
    "# calls to descriptive_stats on cher twitter description\n",
    "descriptive_stats(twitter_cleaned['cher'], num_tokens = 5)"
   ]
  },
  {
   "cell_type": "code",
   "execution_count": 15,
   "id": "106fd11d-0e30-4510-9b14-f24836a2993b",
   "metadata": {},
   "outputs": [
    {
     "name": "stdout",
     "output_type": "stream",
     "text": [
      "There are 1495526 tokens in the data.\n",
      "There are 252736 unique tokens in the data.\n",
      "There are 9127817 characters in the data.\n",
      "The lexical diversity is 0.169 in the data.\n",
      "[('music', 15147), ('love', 11677), ('im', 9051), ('och', 7922), ('life', 7383)]\n"
     ]
    },
    {
     "data": {
      "text/plain": [
       "[1495526, 252736, 0.16899472158959455, 9127817]"
      ]
     },
     "execution_count": 15,
     "metadata": {},
     "output_type": "execute_result"
    }
   ],
   "source": [
    "# calls to descriptive_stats on robyn twitter description\n",
    "descriptive_stats(twitter_cleaned['robynkonichiwa'], num_tokens = 5)"
   ]
  },
  {
   "cell_type": "markdown",
   "id": "46294409",
   "metadata": {},
   "source": [
    "**Q: How do you think the \"top 5 words\" would be different if we left stopwords in the data?**\n",
    "\n",
    "A: Including stopwords in the data would cause common words like \"the,\" \"and,\" and \"of\" to dominate the top 5 words. This can obscure more meaningful, content-specific terms, making it difficult to uncover significant patterns or insights in the data.\n",
    "\n",
    "---\n",
    "\n",
    "**Q: What were your prior beliefs about the lexical diversity between the artists? Does the difference (or lack thereof) in lexical diversity between the artists conform to your prior beliefs?**\n",
    "\n",
    "A: My prior belief was that there would be significant lexical diversity between the artists, expecting varied and complex word usage. However, the observed lexical diversity values (0.103 and 0.142) indicate relatively low diversity, suggesting a higher degree of word repetition, which contradicts my initial assumption.\n"
   ]
  },
  {
   "cell_type": "markdown",
   "id": "4d4e1ac1",
   "metadata": {},
   "source": [
    "\n",
    "## Specialty Statistics\n",
    "\n",
    "The descriptive statistics we have calculated are quite generic. You will now calculate a handful of statistics tailored to these data.\n",
    "\n",
    "1. Ten most common emojis by artist in the twitter descriptions.\n",
    "1. Ten most common hashtags by artist in the twitter descriptions.\n",
    "1. Five most common words in song titles by artist. \n",
    "1. For each artist, a histogram of song lengths (in terms of number of tokens) \n",
    "\n",
    "We can use the `emoji` library to help us identify emojis and you have been given a function to help you.\n"
   ]
  },
  {
   "cell_type": "code",
   "execution_count": 16,
   "id": "753a5a3e",
   "metadata": {},
   "outputs": [],
   "source": [
    "assert(emoji.is_emoji(\"❤️\"))\n",
    "assert(not emoji.is_emoji(\":-)\"))"
   ]
  },
  {
   "cell_type": "markdown",
   "id": "986fc4c0",
   "metadata": {},
   "source": [
    "### Emojis 😁\n",
    "\n",
    "What are the ten most common emojis by artist in the twitter descriptions? \n"
   ]
  },
  {
   "cell_type": "code",
   "execution_count": 17,
   "id": "269cd433",
   "metadata": {},
   "outputs": [
    {
     "name": "stdout",
     "output_type": "stream",
     "text": [
      "cher\n",
      "[('❤', 79223), ('🌈', 47549), ('♥', 33978), ('🏳', 33412), ('✨', 29468), ('💙', 21379), ('🏻', 20930), ('🌊', 20223), ('✌', 16773), ('💜', 16550)]\n",
      "robynkonichiwa\n",
      "[('❤', 4783), ('🌈', 4685), ('🏳', 3528), ('♥', 3103), ('✨', 2223), ('🏻', 1495), ('✌', 1189), ('🏼', 1139), ('♀', 836), ('💙', 809)]\n"
     ]
    }
   ],
   "source": [
    "# Dictionary of lists to store the emojis\n",
    "emojis = defaultdict(list)\n",
    "\n",
    "for artist in twitter_desc:\n",
    "    for desc in twitter_desc[artist]:\n",
    "        emojis[artist].extend([char for char in desc if emoji.is_emoji(char)])\n",
    "\n",
    "# Ten most common emojis\n",
    "for artist in emojis:\n",
    "    emoji_count = Counter(emojis[artist])\n",
    "    print(artist)\n",
    "    print(emoji_count.most_common(10))"
   ]
  },
  {
   "cell_type": "markdown",
   "id": "bab9b770",
   "metadata": {},
   "source": [
    "### Hashtags\n",
    "\n",
    "What are the ten most common hashtags by artist in the twitter descriptions? \n"
   ]
  },
  {
   "cell_type": "code",
   "execution_count": 18,
   "id": "07c396f1",
   "metadata": {},
   "outputs": [
    {
     "name": "stdout",
     "output_type": "stream",
     "text": [
      "cher\n",
      "[('#resist', 9558), ('#blm', 8753), ('#blacklivesmatter', 7432), ('#fbr', 2922), ('#theresistance', 2883), ('#resistance', 2405), ('#1', 2226), ('#', 1965), ('#voteblue', 1897), ('#lgbtq', 1457)]\n",
      "robynkonichiwa\n",
      "[('#blacklivesmatter', 563), ('#blm', 324), ('#music', 260), ('#1', 187), ('#', 150), ('#teamfollowback', 117), ('#edm', 104), ('#resist', 76), ('#freebritney', 63), ('#lgbtq', 58)]\n"
     ]
    }
   ],
   "source": [
    "# Dictionary of lists to store the hashtags\n",
    "hashtags = defaultdict(list)\n",
    "\n",
    "for artist in twitter_desc:\n",
    "    for desc in twitter_desc[artist]:\n",
    "        for word in desc.split():\n",
    "            if word.startswith('#'):\n",
    "                hashtags[artist].append(word.lower())\n",
    "\n",
    "# Ten most common hashtags\n",
    "for artist in hashtags:\n",
    "    hashtag_count = Counter(hashtags[artist])\n",
    "    print(artist)\n",
    "    print(hashtag_count.most_common(10))"
   ]
  },
  {
   "cell_type": "markdown",
   "id": "d10f21d5",
   "metadata": {},
   "source": [
    "### Song Titles\n",
    "\n",
    "What are the five most common words in song titles by artist? The song titles should be on the first line of the lyrics pages, so if you have kept the raw file contents around, you will not need to re-read the data.\n"
   ]
  },
  {
   "cell_type": "code",
   "execution_count": 19,
   "id": "bb69b36b",
   "metadata": {},
   "outputs": [
    {
     "name": "stdout",
     "output_type": "stream",
     "text": [
      "cher\n",
      "[('the', 54), ('you', 44), ('love', 38), ('i', 38), ('a', 28)]\n",
      "robyn\n",
      "[('me', 11), ('you', 9), ('the', 8), ('my', 8), ('to', 6)]\n"
     ]
    }
   ],
   "source": [
    "title_tokens = defaultdict(list)\n",
    "\n",
    "for artist, group in lyrics_df.groupby('artist_name'):\n",
    "    titles = group['lyrics'].apply(lambda x: re.findall(r'\\b\\w+\\b', x.split('\\n')[0].lower()))\n",
    "    \n",
    "    for title in titles:\n",
    "        title_tokens[artist].extend(title)\n",
    "\n",
    "# Ten most common words\n",
    "for artist in title_tokens:\n",
    "    word_count = Counter(title_tokens[artist])\n",
    "    print(artist)\n",
    "    print(word_count.most_common(5))"
   ]
  },
  {
   "cell_type": "markdown",
   "id": "5dd4fd71",
   "metadata": {},
   "source": [
    "### Song Lengths\n",
    "\n",
    "For each artist, a histogram of song lengths (in terms of number of tokens). If you put the song lengths in a data frame with an artist column, matplotlib will make the plotting quite easy. An example is given to help you out. \n"
   ]
  },
  {
   "cell_type": "code",
   "execution_count": 20,
   "id": "805a1e52",
   "metadata": {},
   "outputs": [
    {
     "data": {
      "text/plain": [
       "artist\n",
       "Artist 1    Axes(0.125,0.11;0.775x0.77)\n",
       "Artist 2    Axes(0.125,0.11;0.775x0.77)\n",
       "Name: length, dtype: object"
      ]
     },
     "execution_count": 20,
     "metadata": {},
     "output_type": "execute_result"
    },
    {
     "data": {
      "image/png": "[encoded data removed]",
      "text/plain": [
       "<Figure size 640x480 with 1 Axes>"
      ]
     },
     "metadata": {},
     "output_type": "display_data"
    }
   ],
   "source": [
    "num_replicates = 1000\n",
    "\n",
    "df = pd.DataFrame({\n",
    "    \"artist\" : ['Artist 1'] * num_replicates + ['Artist 2']*num_replicates,\n",
    "    \"length\" : np.concatenate((np.random.poisson(125,num_replicates),np.random.poisson(150,num_replicates)))\n",
    "})\n",
    "\n",
    "df.groupby('artist')['length'].plot(kind=\"hist\",density=True,alpha=0.5,legend=True)"
   ]
  },
  {
   "cell_type": "markdown",
   "id": "8fde9ebb",
   "metadata": {},
   "source": [
    "Since the lyrics may be stored with carriage returns or tabs, it may be useful to have a function that can collapse whitespace, using regular expressions, and be used for splitting. \n",
    "\n",
    "**Q: What does the regular expression `'\\s+'` match on?**\n",
    "\n",
    "A: The pattern '\\s' matches any whitespace character and '+' signifies one or more occurrences of the preceding character. Therefore, '\\s+' matches sequences of consecutive whitespace characters in a string or text.\n"
   ]
  },
  {
   "cell_type": "code",
   "execution_count": 21,
   "id": "f0e34516",
   "metadata": {},
   "outputs": [],
   "source": [
    "collapse_whitespace = re.compile(r'\\s+')\n",
    "\n",
    "def tokenize_lyrics(lyric) : \n",
    "    \"\"\"strip and split on whitespace\"\"\"\n",
    "    return([item.lower() for item in collapse_whitespace.split(lyric)])"
   ]
  },
  {
   "cell_type": "code",
   "execution_count": 26,
   "id": "337815fb-d86c-495d-b7e8-3f7184471054",
   "metadata": {},
   "outputs": [
    {
     "data": {
      "text/html": [
       "<div>\n",
       "<style scoped>\n",
       "    .dataframe tbody tr th:only-of-type {\n",
       "        vertical-align: middle;\n",
       "    }\n",
       "\n",
       "    .dataframe tbody tr th {\n",
       "        vertical-align: top;\n",
       "    }\n",
       "\n",
       "    .dataframe thead th {\n",
       "        text-align: right;\n",
       "    }\n",
       "</style>\n",
       "<table border=\"1\" class=\"dataframe\">\n",
       "  <thead>\n",
       "    <tr style=\"text-align: right;\">\n",
       "      <th></th>\n",
       "      <th>artist_name</th>\n",
       "      <th>song_title</th>\n",
       "      <th>lyrics</th>\n",
       "      <th>lyric_token</th>\n",
       "      <th>lyric_length</th>\n",
       "    </tr>\n",
       "  </thead>\n",
       "  <tbody>\n",
       "    <tr>\n",
       "      <th>0</th>\n",
       "      <td>cher</td>\n",
       "      <td>88degrees</td>\n",
       "      <td>\"88 Degrees\"\\n\\n\\n\\nStuck in L.A., ain't got n...</td>\n",
       "      <td>[\"88, degrees\", stuck, in, l.a.,, ain't, got, ...</td>\n",
       "      <td>327</td>\n",
       "    </tr>\n",
       "    <tr>\n",
       "      <th>1</th>\n",
       "      <td>cher</td>\n",
       "      <td>adifferentkindoflovesong</td>\n",
       "      <td>\"A Different Kind Of Love Song\"\\n\\n\\n\\nWhat if...</td>\n",
       "      <td>[\"a, different, kind, of, love, song\", what, i...</td>\n",
       "      <td>263</td>\n",
       "    </tr>\n",
       "    <tr>\n",
       "      <th>2</th>\n",
       "      <td>cher</td>\n",
       "      <td>afterall</td>\n",
       "      <td>\"After All\"\\n\\n\\n\\nWell, here we are again\\nI ...</td>\n",
       "      <td>[\"after, all\", well,, here, we, are, again, i,...</td>\n",
       "      <td>293</td>\n",
       "    </tr>\n",
       "    <tr>\n",
       "      <th>3</th>\n",
       "      <td>cher</td>\n",
       "      <td>again</td>\n",
       "      <td>\"Again\"\\n\\n\\n\\nAgain evening finds me at your ...</td>\n",
       "      <td>[\"again\", again, evening, finds, me, at, your,...</td>\n",
       "      <td>80</td>\n",
       "    </tr>\n",
       "    <tr>\n",
       "      <th>4</th>\n",
       "      <td>cher</td>\n",
       "      <td>alfie</td>\n",
       "      <td>\"Alfie\"\\n\\n\\n\\nWhat's it all about, Alfie?\\nIs...</td>\n",
       "      <td>[\"alfie\", what's, it, all, about,, alfie?, is,...</td>\n",
       "      <td>135</td>\n",
       "    </tr>\n",
       "  </tbody>\n",
       "</table>\n",
       "</div>"
      ],
      "text/plain": [
       "  artist_name                song_title  \\\n",
       "0        cher                 88degrees   \n",
       "1        cher  adifferentkindoflovesong   \n",
       "2        cher                  afterall   \n",
       "3        cher                     again   \n",
       "4        cher                     alfie   \n",
       "\n",
       "                                              lyrics  \\\n",
       "0  \"88 Degrees\"\\n\\n\\n\\nStuck in L.A., ain't got n...   \n",
       "1  \"A Different Kind Of Love Song\"\\n\\n\\n\\nWhat if...   \n",
       "2  \"After All\"\\n\\n\\n\\nWell, here we are again\\nI ...   \n",
       "3  \"Again\"\\n\\n\\n\\nAgain evening finds me at your ...   \n",
       "4  \"Alfie\"\\n\\n\\n\\nWhat's it all about, Alfie?\\nIs...   \n",
       "\n",
       "                                         lyric_token  lyric_length  \n",
       "0  [\"88, degrees\", stuck, in, l.a.,, ain't, got, ...           327  \n",
       "1  [\"a, different, kind, of, love, song\", what, i...           263  \n",
       "2  [\"after, all\", well,, here, we, are, again, i,...           293  \n",
       "3  [\"again\", again, evening, finds, me, at, your,...            80  \n",
       "4  [\"alfie\", what's, it, all, about,, alfie?, is,...           135  "
      ]
     },
     "execution_count": 26,
     "metadata": {},
     "output_type": "execute_result"
    }
   ],
   "source": [
    "lyrics_df.head()"
   ]
  },
  {
   "cell_type": "code",
   "execution_count": 23,
   "id": "2294c440",
   "metadata": {},
   "outputs": [],
   "source": [
    "# Your lyric length comparison chart here. \n",
    "lyrics_df['lyric_token'] = lyrics_df['lyrics'].apply(tokenize_lyrics)\n",
    "lyrics_df['lyric_length'] = lyrics_df['lyric_token'].apply(len)\n",
    "\n",
    "lyrics_df.groupby('artist_name')['lyric_length'].plot(kind=\"hist\",density=True,alpha=0.5,legend=True)"
   ]
  },
  {
   "cell_type": "code",
   "execution_count": null,
   "id": "a6fa6f66-982c-4d04-8660-90eba80d6bfc",
   "metadata": {},
   "outputs": [],
   "source": []
  }
 ],
 "metadata": {
  "kernelspec": {
   "display_name": "Python 3 (ipykernel)",
   "language": "python",
   "name": "python3"
  },
  "language_info": {
   "codemirror_mode": {
    "name": "ipython",
    "version": 3
   },
   "file_extension": ".py",
   "mimetype": "text/x-python",
   "name": "python",
   "nbconvert_exporter": "python",
   "pygments_lexer": "ipython3",
   "version": "3.10.2"
  }
 },
 "nbformat": 4,
 "nbformat_minor": 5
}
